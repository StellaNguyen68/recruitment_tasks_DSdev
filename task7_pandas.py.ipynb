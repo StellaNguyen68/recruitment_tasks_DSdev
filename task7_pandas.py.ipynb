{
 "cells": [
  {
   "cell_type": "code",
   "execution_count": 69,
   "id": "b92b6ac2",
   "metadata": {},
   "outputs": [
    {
     "name": "stdout",
     "output_type": "stream",
     "text": [
      "             province  register nr                    province capital  \\\n",
      "0        dolnoslaskie            2                             Wroclaw   \n",
      "1  kujawsko-pomorskie            4                   Bydgoszcz / Torun   \n",
      "2           lubelskie            6                              Lublin   \n",
      "3            lubuskie            8  Gorzow Wielkopolski / Zielona Gora   \n",
      "4             lodzkie           10                                lodl   \n",
      "5         malopolskie           12                              Krakow   \n",
      "6         mazowieckie           14                              Warsaw   \n",
      "7       wielkopolskie           30                              Poznan   \n",
      "\n",
      "   area[km2]  population  \n",
      "0   19946.70     2904198  \n",
      "1   17971.34     2086210  \n",
      "2   25122.46     2139726  \n",
      "3   13987.93     1018084  \n",
      "4   18218.95     2493603  \n",
      "5   15182.79     3372618  \n",
      "6   35558.47     5349114  \n",
      "7   29826.50     3475323  \n"
     ]
    }
   ],
   "source": [
    "import numpy as np\n",
    "import pandas as pd\n",
    "df = pd.read_csv('task7.csv')\n",
    "print(df)"
   ]
  },
  {
   "cell_type": "code",
   "execution_count": 50,
   "id": "8479dad5",
   "metadata": {},
   "outputs": [
    {
     "data": {
      "text/html": [
       "<div>\n",
       "<style scoped>\n",
       "    .dataframe tbody tr th:only-of-type {\n",
       "        vertical-align: middle;\n",
       "    }\n",
       "\n",
       "    .dataframe tbody tr th {\n",
       "        vertical-align: top;\n",
       "    }\n",
       "\n",
       "    .dataframe thead th {\n",
       "        text-align: right;\n",
       "    }\n",
       "</style>\n",
       "<table border=\"1\" class=\"dataframe\">\n",
       "  <thead>\n",
       "    <tr style=\"text-align: right;\">\n",
       "      <th></th>\n",
       "      <th>province</th>\n",
       "      <th>register nr</th>\n",
       "      <th>province capital</th>\n",
       "      <th>area[km2]</th>\n",
       "      <th>population</th>\n",
       "    </tr>\n",
       "  </thead>\n",
       "  <tbody>\n",
       "    <tr>\n",
       "      <th>6</th>\n",
       "      <td>mazowieckie</td>\n",
       "      <td>14</td>\n",
       "      <td>Warsaw</td>\n",
       "      <td>35558.47</td>\n",
       "      <td>5349114</td>\n",
       "    </tr>\n",
       "    <tr>\n",
       "      <th>7</th>\n",
       "      <td>wielkopolskie</td>\n",
       "      <td>30</td>\n",
       "      <td>Poznan</td>\n",
       "      <td>29826.50</td>\n",
       "      <td>3475323</td>\n",
       "    </tr>\n",
       "    <tr>\n",
       "      <th>5</th>\n",
       "      <td>malopolskie</td>\n",
       "      <td>12</td>\n",
       "      <td>Krakow</td>\n",
       "      <td>15182.79</td>\n",
       "      <td>3372618</td>\n",
       "    </tr>\n",
       "    <tr>\n",
       "      <th>0</th>\n",
       "      <td>dolnoslaskie</td>\n",
       "      <td>2</td>\n",
       "      <td>Wroclaw</td>\n",
       "      <td>19946.70</td>\n",
       "      <td>2904198</td>\n",
       "    </tr>\n",
       "    <tr>\n",
       "      <th>4</th>\n",
       "      <td>lodzkie</td>\n",
       "      <td>10</td>\n",
       "      <td>lodl</td>\n",
       "      <td>18218.95</td>\n",
       "      <td>2493603</td>\n",
       "    </tr>\n",
       "    <tr>\n",
       "      <th>2</th>\n",
       "      <td>lubelskie</td>\n",
       "      <td>6</td>\n",
       "      <td>Lublin</td>\n",
       "      <td>25122.46</td>\n",
       "      <td>2139726</td>\n",
       "    </tr>\n",
       "    <tr>\n",
       "      <th>1</th>\n",
       "      <td>kujawsko-pomorskie</td>\n",
       "      <td>4</td>\n",
       "      <td>Bydgoszcz / Torun</td>\n",
       "      <td>17971.34</td>\n",
       "      <td>2086210</td>\n",
       "    </tr>\n",
       "    <tr>\n",
       "      <th>3</th>\n",
       "      <td>lubuskie</td>\n",
       "      <td>8</td>\n",
       "      <td>Gorzow Wielkopolski / Zielona Gora</td>\n",
       "      <td>13987.93</td>\n",
       "      <td>1018084</td>\n",
       "    </tr>\n",
       "  </tbody>\n",
       "</table>\n",
       "</div>"
      ],
      "text/plain": [
       "             province  register nr                    province capital  \\\n",
       "6         mazowieckie           14                              Warsaw   \n",
       "7       wielkopolskie           30                              Poznan   \n",
       "5         malopolskie           12                              Krakow   \n",
       "0        dolnoslaskie            2                             Wroclaw   \n",
       "4             lodzkie           10                                lodl   \n",
       "2           lubelskie            6                              Lublin   \n",
       "1  kujawsko-pomorskie            4                   Bydgoszcz / Torun   \n",
       "3            lubuskie            8  Gorzow Wielkopolski / Zielona Gora   \n",
       "\n",
       "   area[km2]  population  \n",
       "6   35558.47     5349114  \n",
       "7   29826.50     3475323  \n",
       "5   15182.79     3372618  \n",
       "0   19946.70     2904198  \n",
       "4   18218.95     2493603  \n",
       "2   25122.46     2139726  \n",
       "1   17971.34     2086210  \n",
       "3   13987.93     1018084  "
      ]
     },
     "execution_count": 50,
     "metadata": {},
     "output_type": "execute_result"
    }
   ],
   "source": [
    "# sort data by population\n",
    "df.sort_values('population',ascending = False)"
   ]
  },
  {
   "cell_type": "code",
   "execution_count": 51,
   "id": "edf1a8fe",
   "metadata": {},
   "outputs": [
    {
     "name": "stdout",
     "output_type": "stream",
     "text": [
      "             province  register nr  area[km2]  population  \\\n",
      "0        dolnoslaskie            2   19946.70     2904198   \n",
      "1  kujawsko-pomorskie            4   17971.34     2086210   \n",
      "2           lubelskie            6   25122.46     2139726   \n",
      "3            lubuskie            8   13987.93     1018084   \n",
      "4             lodzkie           10   18218.95     2493603   \n",
      "5         malopolskie           12   15182.79     3372618   \n",
      "6         mazowieckie           14   35558.47     5349114   \n",
      "7       wielkopolskie           30   29826.50     3475323   \n",
      "\n",
      "                     province capital  \n",
      "0                             Wroclaw  \n",
      "1                   Bydgoszcz / Torun  \n",
      "2                              Lublin  \n",
      "3  Gorzow Wielkopolski / Zielona Gora  \n",
      "4                                lodl  \n",
      "5                              Krakow  \n",
      "6                              Warsaw  \n",
      "7                              Poznan  \n"
     ]
    }
   ],
   "source": [
    "# move the 'province capital' column to the last place\n",
    "df = df[['province','register nr','area[km2]','population','province capital']]\n",
    "print(df)"
   ]
  },
  {
   "cell_type": "code",
   "execution_count": 52,
   "id": "2bee03cf",
   "metadata": {},
   "outputs": [
    {
     "name": "stdout",
     "output_type": "stream",
     "text": [
      "             province  register nr  area[km2]  population  \\\n",
      "0        Dolnoslaskie            2   19946.70     2904198   \n",
      "1  Kujawsko-pomorskie            4   17971.34     2086210   \n",
      "2           Lubelskie            6   25122.46     2139726   \n",
      "3            Lubuskie            8   13987.93     1018084   \n",
      "4             Lodzkie           10   18218.95     2493603   \n",
      "5         Malopolskie           12   15182.79     3372618   \n",
      "6         Mazowieckie           14   35558.47     5349114   \n",
      "7       Wielkopolskie           30   29826.50     3475323   \n",
      "\n",
      "                     province capital  \n",
      "0                             Wroclaw  \n",
      "1                   Bydgoszcz / Torun  \n",
      "2                              Lublin  \n",
      "3  Gorzow Wielkopolski / Zielona Gora  \n",
      "4                                lodl  \n",
      "5                              Krakow  \n",
      "6                              Warsaw  \n",
      "7                              Poznan  \n"
     ]
    }
   ],
   "source": [
    "df.province = df.province.str.capitalize()\n",
    "print(df)"
   ]
  },
  {
   "cell_type": "code",
   "execution_count": 71,
   "id": "453bb956",
   "metadata": {},
   "outputs": [
    {
     "name": "stdout",
     "output_type": "stream",
     "text": [
      "             province  average population per km2  crowded?\n",
      "0        dolnoslaskie                  145.597918      True\n",
      "1  kujawsko-pomorskie                  116.085389     False\n",
      "2           lubelskie                   85.171834     False\n",
      "3            lubuskie                   72.783035     False\n",
      "4             lodzkie                  136.868645     False\n",
      "5         malopolskie                  222.134272      True\n",
      "6         mazowieckie                  150.431501      True\n",
      "7       wielkopolskie                  116.517962     False\n"
     ]
    }
   ],
   "source": [
    "data = [df['province'],df['population']/df['area[km2]']]\n",
    "headers = ['province','average population per km2']\n",
    "df1 = pd.concat(data,axis=1, keys=headers)\n",
    "df1['crowded?'] = np.where(df1['average population per km2'] > 140, True, False)\n",
    "print(df1)"
   ]
  },
  {
   "cell_type": "code",
   "execution_count": 74,
   "id": "a086f42a",
   "metadata": {},
   "outputs": [
    {
     "name": "stdout",
     "output_type": "stream",
     "text": [
      "             province  register nr   province capital  area[km2]  population\n",
      "0        dolnoslaskie            2            Wroclaw   19946.70     2904198\n",
      "1  kujawsko-pomorskie            4  Bydgoszcz / Torun   17971.34     2086210\n",
      "2           lubelskie            6             Lublin   25122.46     2139726\n",
      "4             lodzkie           10               lodl   18218.95     2493603\n",
      "5         malopolskie           12             Krakow   15182.79     3372618\n",
      "6         mazowieckie           14             Warsaw   35558.47     5349114\n",
      "7       wielkopolskie           30             Poznan   29826.50     3475323\n"
     ]
    }
   ],
   "source": [
    "df = df[~df['province'].isin(['lubuskie'])]\n",
    "print(df)"
   ]
  },
  {
   "cell_type": "code",
   "execution_count": 75,
   "id": "136f2149",
   "metadata": {},
   "outputs": [
    {
     "data": {
      "text/html": [
       "<div>\n",
       "<style scoped>\n",
       "    .dataframe tbody tr th:only-of-type {\n",
       "        vertical-align: middle;\n",
       "    }\n",
       "\n",
       "    .dataframe tbody tr th {\n",
       "        vertical-align: top;\n",
       "    }\n",
       "\n",
       "    .dataframe thead th {\n",
       "        text-align: right;\n",
       "    }\n",
       "</style>\n",
       "<table border=\"1\" class=\"dataframe\">\n",
       "  <thead>\n",
       "    <tr style=\"text-align: right;\">\n",
       "      <th></th>\n",
       "      <th>register nr</th>\n",
       "      <th>area[km2]</th>\n",
       "      <th>population</th>\n",
       "    </tr>\n",
       "  </thead>\n",
       "  <tbody>\n",
       "    <tr>\n",
       "      <th>count</th>\n",
       "      <td>7.000000</td>\n",
       "      <td>7.000000</td>\n",
       "      <td>7.000000e+00</td>\n",
       "    </tr>\n",
       "    <tr>\n",
       "      <th>mean</th>\n",
       "      <td>11.142857</td>\n",
       "      <td>23118.172857</td>\n",
       "      <td>3.117256e+06</td>\n",
       "    </tr>\n",
       "    <tr>\n",
       "      <th>std</th>\n",
       "      <td>9.370674</td>\n",
       "      <td>7385.804258</td>\n",
       "      <td>1.127502e+06</td>\n",
       "    </tr>\n",
       "    <tr>\n",
       "      <th>min</th>\n",
       "      <td>2.000000</td>\n",
       "      <td>15182.790000</td>\n",
       "      <td>2.086210e+06</td>\n",
       "    </tr>\n",
       "    <tr>\n",
       "      <th>25%</th>\n",
       "      <td>5.000000</td>\n",
       "      <td>18095.145000</td>\n",
       "      <td>2.316664e+06</td>\n",
       "    </tr>\n",
       "    <tr>\n",
       "      <th>50%</th>\n",
       "      <td>10.000000</td>\n",
       "      <td>19946.700000</td>\n",
       "      <td>2.904198e+06</td>\n",
       "    </tr>\n",
       "    <tr>\n",
       "      <th>75%</th>\n",
       "      <td>13.000000</td>\n",
       "      <td>27474.480000</td>\n",
       "      <td>3.423970e+06</td>\n",
       "    </tr>\n",
       "    <tr>\n",
       "      <th>max</th>\n",
       "      <td>30.000000</td>\n",
       "      <td>35558.470000</td>\n",
       "      <td>5.349114e+06</td>\n",
       "    </tr>\n",
       "  </tbody>\n",
       "</table>\n",
       "</div>"
      ],
      "text/plain": [
       "       register nr     area[km2]    population\n",
       "count     7.000000      7.000000  7.000000e+00\n",
       "mean     11.142857  23118.172857  3.117256e+06\n",
       "std       9.370674   7385.804258  1.127502e+06\n",
       "min       2.000000  15182.790000  2.086210e+06\n",
       "25%       5.000000  18095.145000  2.316664e+06\n",
       "50%      10.000000  19946.700000  2.904198e+06\n",
       "75%      13.000000  27474.480000  3.423970e+06\n",
       "max      30.000000  35558.470000  5.349114e+06"
      ]
     },
     "execution_count": 75,
     "metadata": {},
     "output_type": "execute_result"
    }
   ],
   "source": [
    "df.describe()"
   ]
  }
 ],
 "metadata": {
  "kernelspec": {
   "display_name": "Python 3",
   "language": "python",
   "name": "python3"
  },
  "language_info": {
   "codemirror_mode": {
    "name": "ipython",
    "version": 3
   },
   "file_extension": ".py",
   "mimetype": "text/x-python",
   "name": "python",
   "nbconvert_exporter": "python",
   "pygments_lexer": "ipython3",
   "version": "3.8.8"
  }
 },
 "nbformat": 4,
 "nbformat_minor": 5
}
